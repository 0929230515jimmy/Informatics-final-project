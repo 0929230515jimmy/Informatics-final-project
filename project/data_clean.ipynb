{
 "cells": [
  {
   "cell_type": "code",
   "execution_count": 41,
   "id": "b6d10c20-455b-4e48-939c-643e4219c6b2",
   "metadata": {
    "tags": []
   },
   "outputs": [
    {
     "data": {
      "text/html": [
       "<div>\n",
       "<style scoped>\n",
       "    .dataframe tbody tr th:only-of-type {\n",
       "        vertical-align: middle;\n",
       "    }\n",
       "\n",
       "    .dataframe tbody tr th {\n",
       "        vertical-align: top;\n",
       "    }\n",
       "\n",
       "    .dataframe thead th {\n",
       "        text-align: right;\n",
       "    }\n",
       "</style>\n",
       "<table border=\"1\" class=\"dataframe\">\n",
       "  <thead>\n",
       "    <tr style=\"text-align: right;\">\n",
       "      <th></th>\n",
       "      <th>Unnamed: 0</th>\n",
       "      <th>schedule_date</th>\n",
       "      <th>schedule_season</th>\n",
       "      <th>schedule_week</th>\n",
       "      <th>schedule_playoff</th>\n",
       "      <th>team_home</th>\n",
       "      <th>score_home</th>\n",
       "      <th>score_away</th>\n",
       "      <th>team_away</th>\n",
       "      <th>team_favorite_id</th>\n",
       "      <th>...</th>\n",
       "      <th>stadium_neutral</th>\n",
       "      <th>weather_temperature</th>\n",
       "      <th>weather_wind_mph</th>\n",
       "      <th>weather_humidity</th>\n",
       "      <th>weather_detail</th>\n",
       "      <th>team</th>\n",
       "      <th>favorite</th>\n",
       "      <th>winner</th>\n",
       "      <th>net_score</th>\n",
       "      <th>favorite_correct</th>\n",
       "    </tr>\n",
       "  </thead>\n",
       "  <tbody>\n",
       "    <tr>\n",
       "      <th>0</th>\n",
       "      <td>1</td>\n",
       "      <td>1/21/1979</td>\n",
       "      <td>1978</td>\n",
       "      <td>Superbowl</td>\n",
       "      <td>True</td>\n",
       "      <td>Dallas Cowboys</td>\n",
       "      <td>31</td>\n",
       "      <td>35</td>\n",
       "      <td>Pittsburgh Steelers</td>\n",
       "      <td>PIT</td>\n",
       "      <td>...</td>\n",
       "      <td>True</td>\n",
       "      <td>71.0</td>\n",
       "      <td>18.0</td>\n",
       "      <td>84.0</td>\n",
       "      <td>rain</td>\n",
       "      <td>Pittsburgh Steelers</td>\n",
       "      <td>away</td>\n",
       "      <td>away</td>\n",
       "      <td>-4</td>\n",
       "      <td>correct</td>\n",
       "    </tr>\n",
       "    <tr>\n",
       "      <th>1</th>\n",
       "      <td>2</td>\n",
       "      <td>9/1/1979</td>\n",
       "      <td>1979</td>\n",
       "      <td>1</td>\n",
       "      <td>False</td>\n",
       "      <td>Tampa Bay Buccaneers</td>\n",
       "      <td>31</td>\n",
       "      <td>16</td>\n",
       "      <td>Detroit Lions</td>\n",
       "      <td>TB</td>\n",
       "      <td>...</td>\n",
       "      <td>False</td>\n",
       "      <td>79.0</td>\n",
       "      <td>9.0</td>\n",
       "      <td>87.0</td>\n",
       "      <td>NaN</td>\n",
       "      <td>Tampa Bay Buccaneers</td>\n",
       "      <td>home</td>\n",
       "      <td>home</td>\n",
       "      <td>15</td>\n",
       "      <td>correct</td>\n",
       "    </tr>\n",
       "    <tr>\n",
       "      <th>2</th>\n",
       "      <td>3</td>\n",
       "      <td>9/2/1979</td>\n",
       "      <td>1979</td>\n",
       "      <td>1</td>\n",
       "      <td>False</td>\n",
       "      <td>Buffalo Bills</td>\n",
       "      <td>7</td>\n",
       "      <td>9</td>\n",
       "      <td>Miami Dolphins</td>\n",
       "      <td>MIA</td>\n",
       "      <td>...</td>\n",
       "      <td>False</td>\n",
       "      <td>74.0</td>\n",
       "      <td>15.0</td>\n",
       "      <td>74.0</td>\n",
       "      <td>NaN</td>\n",
       "      <td>Miami Dolphins</td>\n",
       "      <td>away</td>\n",
       "      <td>away</td>\n",
       "      <td>-2</td>\n",
       "      <td>correct</td>\n",
       "    </tr>\n",
       "    <tr>\n",
       "      <th>3</th>\n",
       "      <td>4</td>\n",
       "      <td>9/2/1979</td>\n",
       "      <td>1979</td>\n",
       "      <td>1</td>\n",
       "      <td>False</td>\n",
       "      <td>Chicago Bears</td>\n",
       "      <td>6</td>\n",
       "      <td>3</td>\n",
       "      <td>Green Bay Packers</td>\n",
       "      <td>CHI</td>\n",
       "      <td>...</td>\n",
       "      <td>False</td>\n",
       "      <td>78.0</td>\n",
       "      <td>11.0</td>\n",
       "      <td>68.0</td>\n",
       "      <td>NaN</td>\n",
       "      <td>Chicago Bears</td>\n",
       "      <td>home</td>\n",
       "      <td>home</td>\n",
       "      <td>3</td>\n",
       "      <td>correct</td>\n",
       "    </tr>\n",
       "    <tr>\n",
       "      <th>4</th>\n",
       "      <td>5</td>\n",
       "      <td>9/2/1979</td>\n",
       "      <td>1979</td>\n",
       "      <td>1</td>\n",
       "      <td>False</td>\n",
       "      <td>Denver Broncos</td>\n",
       "      <td>10</td>\n",
       "      <td>0</td>\n",
       "      <td>Cincinnati Bengals</td>\n",
       "      <td>DEN</td>\n",
       "      <td>...</td>\n",
       "      <td>False</td>\n",
       "      <td>69.0</td>\n",
       "      <td>6.0</td>\n",
       "      <td>38.0</td>\n",
       "      <td>NaN</td>\n",
       "      <td>Denver Broncos</td>\n",
       "      <td>home</td>\n",
       "      <td>home</td>\n",
       "      <td>10</td>\n",
       "      <td>correct</td>\n",
       "    </tr>\n",
       "    <tr>\n",
       "      <th>...</th>\n",
       "      <td>...</td>\n",
       "      <td>...</td>\n",
       "      <td>...</td>\n",
       "      <td>...</td>\n",
       "      <td>...</td>\n",
       "      <td>...</td>\n",
       "      <td>...</td>\n",
       "      <td>...</td>\n",
       "      <td>...</td>\n",
       "      <td>...</td>\n",
       "      <td>...</td>\n",
       "      <td>...</td>\n",
       "      <td>...</td>\n",
       "      <td>...</td>\n",
       "      <td>...</td>\n",
       "      <td>...</td>\n",
       "      <td>...</td>\n",
       "      <td>...</td>\n",
       "      <td>...</td>\n",
       "      <td>...</td>\n",
       "      <td>...</td>\n",
       "    </tr>\n",
       "    <tr>\n",
       "      <th>10982</th>\n",
       "      <td>10983</td>\n",
       "      <td>9/17/2023</td>\n",
       "      <td>2023</td>\n",
       "      <td>2</td>\n",
       "      <td>False</td>\n",
       "      <td>Tampa Bay Buccaneers</td>\n",
       "      <td>27</td>\n",
       "      <td>17</td>\n",
       "      <td>Chicago Bears</td>\n",
       "      <td>TB</td>\n",
       "      <td>...</td>\n",
       "      <td>False</td>\n",
       "      <td>NaN</td>\n",
       "      <td>NaN</td>\n",
       "      <td>NaN</td>\n",
       "      <td>NaN</td>\n",
       "      <td>Tampa Bay Buccaneers</td>\n",
       "      <td>home</td>\n",
       "      <td>home</td>\n",
       "      <td>10</td>\n",
       "      <td>correct</td>\n",
       "    </tr>\n",
       "    <tr>\n",
       "      <th>10983</th>\n",
       "      <td>10984</td>\n",
       "      <td>9/17/2023</td>\n",
       "      <td>2023</td>\n",
       "      <td>2</td>\n",
       "      <td>False</td>\n",
       "      <td>Tennessee Titans</td>\n",
       "      <td>27</td>\n",
       "      <td>24</td>\n",
       "      <td>Los Angeles Chargers</td>\n",
       "      <td>LAC</td>\n",
       "      <td>...</td>\n",
       "      <td>False</td>\n",
       "      <td>NaN</td>\n",
       "      <td>NaN</td>\n",
       "      <td>NaN</td>\n",
       "      <td>NaN</td>\n",
       "      <td>Los Angeles Chargers</td>\n",
       "      <td>away</td>\n",
       "      <td>home</td>\n",
       "      <td>3</td>\n",
       "      <td>wrong</td>\n",
       "    </tr>\n",
       "    <tr>\n",
       "      <th>10984</th>\n",
       "      <td>10985</td>\n",
       "      <td>9/18/2023</td>\n",
       "      <td>2023</td>\n",
       "      <td>2</td>\n",
       "      <td>False</td>\n",
       "      <td>Carolina Panthers</td>\n",
       "      <td>17</td>\n",
       "      <td>20</td>\n",
       "      <td>New Orleans Saints</td>\n",
       "      <td>NO</td>\n",
       "      <td>...</td>\n",
       "      <td>False</td>\n",
       "      <td>NaN</td>\n",
       "      <td>NaN</td>\n",
       "      <td>NaN</td>\n",
       "      <td>NaN</td>\n",
       "      <td>New Orleans Saints</td>\n",
       "      <td>away</td>\n",
       "      <td>away</td>\n",
       "      <td>-3</td>\n",
       "      <td>correct</td>\n",
       "    </tr>\n",
       "    <tr>\n",
       "      <th>10985</th>\n",
       "      <td>10986</td>\n",
       "      <td>9/18/2023</td>\n",
       "      <td>2023</td>\n",
       "      <td>2</td>\n",
       "      <td>False</td>\n",
       "      <td>Pittsburgh Steelers</td>\n",
       "      <td>26</td>\n",
       "      <td>22</td>\n",
       "      <td>Cleveland Browns</td>\n",
       "      <td>CLE</td>\n",
       "      <td>...</td>\n",
       "      <td>False</td>\n",
       "      <td>NaN</td>\n",
       "      <td>NaN</td>\n",
       "      <td>NaN</td>\n",
       "      <td>NaN</td>\n",
       "      <td>Cleveland Browns</td>\n",
       "      <td>away</td>\n",
       "      <td>home</td>\n",
       "      <td>4</td>\n",
       "      <td>wrong</td>\n",
       "    </tr>\n",
       "    <tr>\n",
       "      <th>10986</th>\n",
       "      <td>10987</td>\n",
       "      <td>9/21/2023</td>\n",
       "      <td>2023</td>\n",
       "      <td>3</td>\n",
       "      <td>False</td>\n",
       "      <td>San Francisco 49ers</td>\n",
       "      <td>30</td>\n",
       "      <td>12</td>\n",
       "      <td>New York Giants</td>\n",
       "      <td>SF</td>\n",
       "      <td>...</td>\n",
       "      <td>False</td>\n",
       "      <td>NaN</td>\n",
       "      <td>NaN</td>\n",
       "      <td>NaN</td>\n",
       "      <td>NaN</td>\n",
       "      <td>San Francisco 49ers</td>\n",
       "      <td>home</td>\n",
       "      <td>home</td>\n",
       "      <td>18</td>\n",
       "      <td>correct</td>\n",
       "    </tr>\n",
       "  </tbody>\n",
       "</table>\n",
       "<p>10987 rows × 23 columns</p>\n",
       "</div>"
      ],
      "text/plain": [
       "       Unnamed: 0 schedule_date  schedule_season schedule_week  \\\n",
       "0               1     1/21/1979             1978     Superbowl   \n",
       "1               2      9/1/1979             1979             1   \n",
       "2               3      9/2/1979             1979             1   \n",
       "3               4      9/2/1979             1979             1   \n",
       "4               5      9/2/1979             1979             1   \n",
       "...           ...           ...              ...           ...   \n",
       "10982       10983     9/17/2023             2023             2   \n",
       "10983       10984     9/17/2023             2023             2   \n",
       "10984       10985     9/18/2023             2023             2   \n",
       "10985       10986     9/18/2023             2023             2   \n",
       "10986       10987     9/21/2023             2023             3   \n",
       "\n",
       "       schedule_playoff             team_home  score_home  score_away  \\\n",
       "0                  True        Dallas Cowboys          31          35   \n",
       "1                 False  Tampa Bay Buccaneers          31          16   \n",
       "2                 False         Buffalo Bills           7           9   \n",
       "3                 False         Chicago Bears           6           3   \n",
       "4                 False        Denver Broncos          10           0   \n",
       "...                 ...                   ...         ...         ...   \n",
       "10982             False  Tampa Bay Buccaneers          27          17   \n",
       "10983             False      Tennessee Titans          27          24   \n",
       "10984             False     Carolina Panthers          17          20   \n",
       "10985             False   Pittsburgh Steelers          26          22   \n",
       "10986             False   San Francisco 49ers          30          12   \n",
       "\n",
       "                  team_away team_favorite_id  ...  stadium_neutral  \\\n",
       "0       Pittsburgh Steelers              PIT  ...             True   \n",
       "1             Detroit Lions               TB  ...            False   \n",
       "2            Miami Dolphins              MIA  ...            False   \n",
       "3         Green Bay Packers              CHI  ...            False   \n",
       "4        Cincinnati Bengals              DEN  ...            False   \n",
       "...                     ...              ...  ...              ...   \n",
       "10982         Chicago Bears               TB  ...            False   \n",
       "10983  Los Angeles Chargers              LAC  ...            False   \n",
       "10984    New Orleans Saints               NO  ...            False   \n",
       "10985      Cleveland Browns              CLE  ...            False   \n",
       "10986       New York Giants               SF  ...            False   \n",
       "\n",
       "       weather_temperature weather_wind_mph  weather_humidity  weather_detail  \\\n",
       "0                     71.0             18.0              84.0            rain   \n",
       "1                     79.0              9.0              87.0             NaN   \n",
       "2                     74.0             15.0              74.0             NaN   \n",
       "3                     78.0             11.0              68.0             NaN   \n",
       "4                     69.0              6.0              38.0             NaN   \n",
       "...                    ...              ...               ...             ...   \n",
       "10982                  NaN              NaN               NaN             NaN   \n",
       "10983                  NaN              NaN               NaN             NaN   \n",
       "10984                  NaN              NaN               NaN             NaN   \n",
       "10985                  NaN              NaN               NaN             NaN   \n",
       "10986                  NaN              NaN               NaN             NaN   \n",
       "\n",
       "                       team  favorite winner net_score favorite_correct  \n",
       "0       Pittsburgh Steelers      away   away        -4          correct  \n",
       "1      Tampa Bay Buccaneers      home   home        15          correct  \n",
       "2            Miami Dolphins      away   away        -2          correct  \n",
       "3             Chicago Bears      home   home         3          correct  \n",
       "4            Denver Broncos      home   home        10          correct  \n",
       "...                     ...       ...    ...       ...              ...  \n",
       "10982  Tampa Bay Buccaneers      home   home        10          correct  \n",
       "10983  Los Angeles Chargers      away   home         3            wrong  \n",
       "10984    New Orleans Saints      away   away        -3          correct  \n",
       "10985      Cleveland Browns      away   home         4            wrong  \n",
       "10986   San Francisco 49ers      home   home        18          correct  \n",
       "\n",
       "[10987 rows x 23 columns]"
      ]
     },
     "execution_count": 41,
     "metadata": {},
     "output_type": "execute_result"
    }
   ],
   "source": [
    "import pandas as pd\n",
    "import numpy as np\n",
    "import matplotlib.pyplot as plt\n",
    "import seaborn as sns\n",
    "import statistics\n",
    "\n",
    "df = pd.read_csv('clean_data.csv')\n",
    "df"
   ]
  },
  {
   "cell_type": "code",
   "execution_count": 2,
   "id": "ab4b50ff-b8a4-4737-88f6-bcc918fdb0ad",
   "metadata": {},
   "outputs": [],
   "source": [
    "from sklearn.linear_model import LinearRegression\n",
    "from sklearn.metrics import mean_absolute_error\n",
    "from sklearn.datasets import make_regression\n",
    "\n",
    "def simple_regression_plot(model):\n",
    "    '''\n",
    "    Plot example of regression model on constructed data with a single feature.\n",
    "    '''\n",
    "    X, y = make_regression(n_features = 1, noise = 12, random_state = 15)\n",
    "    \n",
    "    # fit the model *in place*\n",
    "    model.fit(X, y)\n",
    "    y_preds = model.predict(X)\n",
    "    \n",
    "    sns.scatterplot(x = X.reshape(-1), y = y, label = 'training data')\n",
    "    sns.lineplot(x = X.reshape(-1), y = y_preds, label = 'predictions', color = 'orange')"
   ]
  },
  {
   "cell_type": "code",
   "execution_count": 3,
   "id": "d787c342-10d9-4f2a-b8d9-eed07a73ff95",
   "metadata": {
    "tags": []
   },
   "outputs": [],
   "source": [
    "from sklearn.model_selection import train_test_split\n",
    "df_train, df_test = train_test_split(df, test_size=0.2, random_state=42)"
   ]
  },
  {
   "cell_type": "code",
   "execution_count": 4,
   "id": "835969f5-963d-4f2c-8544-7ee8362b9f95",
   "metadata": {
    "tags": []
   },
   "outputs": [],
   "source": [
    "features = ['score_home','score_away','over_under_line']\n",
    "X = df_train[features]\n",
    "y = df_train['spread_favorite']"
   ]
  },
  {
   "cell_type": "code",
   "execution_count": 5,
   "id": "0a2fdc84-43c0-4bbb-a962-ee01fa36bfc2",
   "metadata": {
    "tags": []
   },
   "outputs": [
    {
     "data": {
      "text/plain": [
       "<seaborn.axisgrid.FacetGrid at 0x7f8479852f70>"
      ]
     },
     "execution_count": 5,
     "metadata": {},
     "output_type": "execute_result"
    },
    {
     "data": {
      "image/png": "[encoded data removed]",
      "text/plain": [
       "<Figure size 500x500 with 1 Axes>"
      ]
     },
     "metadata": {},
     "output_type": "display_data"
    }
   ],
   "source": [
    "sns.lmplot(data=df, x='net_score', y='spread_favorite')"
   ]
  },
  {
   "cell_type": "code",
   "execution_count": 6,
   "id": "0889c233-7f45-43d1-b4e2-20e2239414ad",
   "metadata": {
    "tags": []
   },
   "outputs": [
    {
     "data": {
      "text/plain": [
       "<Axes: xlabel='favorite_correct', ylabel='Count'>"
      ]
     },
     "execution_count": 6,
     "metadata": {},
     "output_type": "execute_result"
    },
    {
     "data": {
      "image/png": "[encoded data removed]",
      "text/plain": [
       "<Figure size 640x480 with 1 Axes>"
      ]
     },
     "metadata": {},
     "output_type": "display_data"
    }
   ],
   "source": [
    "a = df['favorite_correct']\n",
    "sns.histplot(a)"
   ]
  },
  {
   "cell_type": "code",
   "execution_count": 7,
   "id": "d52938d9-5c0c-4e79-a444-e4458e8500f9",
   "metadata": {
    "tags": []
   },
   "outputs": [],
   "source": [
    "correct = 0\n",
    "wrong = 0\n",
    "for i in df['favorite_correct'].index:\n",
    "    if df['favorite_correct'].iloc[i] == 'correct':\n",
    "        correct += 1\n",
    "    elif df['favorite_correct'].iloc[i] == 'wrong':\n",
    "        wrong += 1"
   ]
  },
  {
   "cell_type": "code",
   "execution_count": 8,
   "id": "27c91394-e12a-405d-959a-5ad4a8a22f76",
   "metadata": {
    "tags": []
   },
   "outputs": [
    {
     "data": {
      "text/plain": [
       "0.6673107890499195"
      ]
     },
     "execution_count": 8,
     "metadata": {},
     "output_type": "execute_result"
    }
   ],
   "source": [
    "total = correct + wrong\n",
    "correct_percent = correct/total\n",
    "correct_percent"
   ]
  },
  {
   "cell_type": "code",
   "execution_count": 9,
   "id": "a751fec4-7a3d-4284-8690-1e106f485553",
   "metadata": {},
   "outputs": [],
   "source": [
    "df1 = pd.read_csv('d2.csv')\n",
    "df1 = df1.dropna()\n"
   ]
  },
  {
   "cell_type": "code",
   "execution_count": 10,
   "id": "437f6976-295a-49d7-b796-a08fc7166933",
   "metadata": {},
   "outputs": [],
   "source": [
    "filter_1 = 3\n",
    "filter_2 = 5\n",
    "df1['O_difference_3'] = 0\n",
    "df1['Wu_difference_3'] = 0\n",
    "df1['O_difference_5'] = 0\n",
    "df1['Wu_difference_5'] = 0\n"
   ]
  },
  {
   "cell_type": "code",
   "execution_count": 11,
   "id": "d8bd23f7-db1a-4416-b67f-f7f195c9e7a3",
   "metadata": {
    "tags": []
   },
   "outputs": [],
   "source": [
    "df1['Spread_flipp'] = -df1['Spread']"
   ]
  },
  {
   "cell_type": "code",
   "execution_count": 12,
   "id": "77fbb384-4bf7-4a1c-a5f4-5b0f21d15081",
   "metadata": {
    "tags": []
   },
   "outputs": [],
   "source": [
    "for i in range(2566):\n",
    "    if (abs(df1['Spread_flipp'].iloc[i]-df1['OsbournM'].iloc[i])>filter_1):\n",
    "        df1.loc[i, 'O_difference_3'] = 1\n",
    "    else:\n",
    "        df1.loc[i, 'O_difference_3'] = 0"
   ]
  },
  {
   "cell_type": "code",
   "execution_count": 13,
   "id": "c5de8a03-2fa9-4b83-a7ef-9a7e0c2fef71",
   "metadata": {
    "tags": []
   },
   "outputs": [],
   "source": [
    "for i in range(2566):\n",
    "    if (abs(df1['Spread_flipp'].iloc[i]-df1['WuM'].iloc[i])>filter_1):\n",
    "        df1.loc[i,'Wu_difference_3'] = 1\n",
    "    else:\n",
    "        df1.loc[i,'Wu_difference_3'] = 0"
   ]
  },
  {
   "cell_type": "code",
   "execution_count": 14,
   "id": "4b3ffd81-5d66-4c00-8bfb-42424079be92",
   "metadata": {
    "tags": []
   },
   "outputs": [],
   "source": [
    "for i in range(2566):\n",
    "    if (abs(df1['Spread_flipp'].iloc[i]-df1['OsbournM'].iloc[i])>filter_2):\n",
    "        df1.loc[i, 'O_difference_5'] = 1\n",
    "    else:\n",
    "        df1.loc[i, 'O_difference_5'] = 0"
   ]
  },
  {
   "cell_type": "code",
   "execution_count": 15,
   "id": "f154cfbd-b183-48b2-acea-0529928e5bac",
   "metadata": {
    "tags": []
   },
   "outputs": [],
   "source": [
    "for i in range(2566):\n",
    "    if (abs(df1['Spread_flipp'].iloc[i]-df1['WuM'].iloc[i])>filter_2):\n",
    "        df1.loc[i,'Wu_difference_5'] = 1\n",
    "    else:\n",
    "        df1.loc[i,'Wu_difference_5'] = 0"
   ]
  },
  {
   "cell_type": "code",
   "execution_count": 16,
   "id": "f7387c89-bd5c-4c83-a15e-30321dd3b1a5",
   "metadata": {
    "tags": []
   },
   "outputs": [],
   "source": [
    "df1['O_bet_3'] = 0\n",
    "df1['Wu_bet_3'] = 0\n",
    "df1['O_bet_5'] = 0\n",
    "df1['Wu_bet_5'] = 0\n"
   ]
  },
  {
   "cell_type": "code",
   "execution_count": 17,
   "id": "37a000bb-2611-4a2c-a72b-7706df6ec975",
   "metadata": {
    "tags": []
   },
   "outputs": [],
   "source": [
    "for i in range(2566):\n",
    "    if (df1.loc[i, 'O_difference_3'] == 1):\n",
    "        if(df1.loc[i, 'OsbournM'] - df1.loc[i, 'Spread_flipp'] > 0):\n",
    "            df1.loc[i, 'O_bet_3'] = \"H\"\n",
    "        else:\n",
    "            df1.loc[i, 'O_bet_3'] = \"V\"\n",
    "    else:\n",
    "        df1.loc[i, 'O_bet_3'] = \"0\""
   ]
  },
  {
   "cell_type": "code",
   "execution_count": 18,
   "id": "db6d4bfe-6ca1-4040-bca5-8d25ecb041c0",
   "metadata": {
    "tags": []
   },
   "outputs": [],
   "source": [
    "for i in range(2566):\n",
    "    if (df1.loc[i, 'Wu_difference_3'] == 1):\n",
    "        if(df1.loc[i, 'WuM'] - df1.loc[i, 'Spread_flipp'] > 0):\n",
    "            df1.loc[i, 'Wu_bet_3'] = \"H\"\n",
    "        else:\n",
    "            df1.loc[i, 'Wu_bet_3'] = \"V\"\n",
    "    else:\n",
    "        df1.loc[i, 'Wu_bet_3'] = \"0\""
   ]
  },
  {
   "cell_type": "code",
   "execution_count": 19,
   "id": "7364f8ea-f611-4c8a-8db8-c5892c7cbc3b",
   "metadata": {
    "tags": []
   },
   "outputs": [],
   "source": [
    "for i in range(2566):\n",
    "    if (df1.loc[i, 'O_difference_5'] == 1):\n",
    "        if(df1.loc[i, 'OsbournM'] - df1.loc[i, 'Spread_flipp'] > 0):\n",
    "            df1.loc[i, 'O_bet_5'] = \"H\"\n",
    "        else:\n",
    "            df1.loc[i, 'O_bet_5'] = \"V\"\n",
    "    else:\n",
    "        df1.loc[i, 'O_bet_5'] = \"0\""
   ]
  },
  {
   "cell_type": "code",
   "execution_count": 20,
   "id": "319616fd-087f-4782-8bc0-fd26c8b43bdd",
   "metadata": {
    "tags": []
   },
   "outputs": [],
   "source": [
    "for i in range(2566):\n",
    "    if (df1.loc[i, 'Wu_difference_5'] == 1):\n",
    "        if(df1.loc[i, 'WuM'] - df1.loc[i, 'Spread_flipp'] > 0):\n",
    "            df1.loc[i, 'Wu_bet_5'] = \"H\"\n",
    "        else:\n",
    "            df1.loc[i, 'Wu_bet_5'] = \"V\"\n",
    "    else:\n",
    "        df1.loc[i, 'Wu_bet_5'] = \"0\""
   ]
  },
  {
   "cell_type": "code",
   "execution_count": 21,
   "id": "570f428c-696e-4360-ab35-4abf1b3351bf",
   "metadata": {
    "tags": []
   },
   "outputs": [],
   "source": [
    "df1['O_win_3'] = 0\n",
    "df1['Wu_win_3'] = 0\n",
    "df1['O_win_5'] = 0\n",
    "df1['Wu_win_5'] = 0"
   ]
  },
  {
   "cell_type": "code",
   "execution_count": 31,
   "id": "44cbe308-e7bf-490a-820a-078517c4d49f",
   "metadata": {
    "tags": []
   },
   "outputs": [],
   "source": [
    "for i in range(2566):\n",
    "    if df1.loc[i, 'O_bet_3'] == '0':\n",
    "        df1.loc[i, 'O_win_3'] = 'N'\n",
    "    elif df1.loc[i, 'O_bet_3'] == 'H' and df1.loc[i, 'Nethomepoints'] - df1.loc[i, 'Spread_flipp'] > 0:\n",
    "        df1.loc[i, 'O_win_3'] = 'W'\n",
    "    elif df1.loc[i, 'O_bet_3'] == 'H' and df1.loc[i, 'Nethomepoints'] - df1.loc[i, 'Spread_flipp'] < 0:\n",
    "        df1.loc[i, 'O_win_3'] = 'L'    \n",
    "    elif df1.loc[i, 'O_bet_3'] == 'V' and df1.loc[i, 'Nethomepoints'] - df1.loc[i, 'Spread_flipp'] < 0:\n",
    "        df1.loc[i, 'O_win_3'] = 'W'\n",
    "    elif df1.loc[i, 'O_bet_3'] == 'V' and df1.loc[i, 'Nethomepoints'] - df1.loc[i, 'Spread_flipp'] > 0:\n",
    "        df1.loc[i, 'O_win_3'] = 'L'"
   ]
  },
  {
   "cell_type": "code",
   "execution_count": 33,
   "id": "37c3f546-cf03-4726-b5d8-80284f5c6ea3",
   "metadata": {
    "tags": []
   },
   "outputs": [],
   "source": [
    "for i in range(2566):\n",
    "    if df1.loc[i, 'Wu_bet_3'] == '0':\n",
    "        df1.loc[i, 'Wu_win_3'] = 'N'\n",
    "    elif df1.loc[i, 'Wu_bet_3'] == 'H' and df1.loc[i, 'Nethomepoints'] - df1.loc[i, 'Spread_flipp'] > 0:\n",
    "        df1.loc[i, 'Wu_win_3'] = 'W'\n",
    "    elif df1.loc[i, 'Wu_bet_3'] == 'H' and df1.loc[i, 'Nethomepoints'] - df1.loc[i, 'Spread_flipp'] < 0:\n",
    "        df1.loc[i, 'Wu_win_3'] = 'L'    \n",
    "    elif df1.loc[i, 'Wu_bet_3'] == 'V' and df1.loc[i, 'Nethomepoints'] - df1.loc[i, 'Spread_flipp'] < 0:\n",
    "        df1.loc[i, 'Wu_win_3'] = 'W'\n",
    "    elif df1.loc[i, 'Wu_bet_3'] == 'V' and df1.loc[i, 'Nethomepoints'] - df1.loc[i, 'Spread_flipp'] > 0:\n",
    "        df1.loc[i, 'Wu_win_3'] = 'L'"
   ]
  },
  {
   "cell_type": "code",
   "execution_count": 34,
   "id": "3b4bb5a5-82c9-4623-a4d3-1561f865d8a3",
   "metadata": {
    "tags": []
   },
   "outputs": [],
   "source": [
    "for i in range(2566):\n",
    "    if df1.loc[i, 'O_bet_5'] == '0':\n",
    "        df1.loc[i, 'O_win_5'] = 'N'\n",
    "    elif df1.loc[i, 'O_bet_5'] == 'H' and df1.loc[i, 'Nethomepoints'] - df1.loc[i, 'Spread_flipp'] > 0:\n",
    "        df1.loc[i, 'O_win_5'] = 'W'\n",
    "    elif df1.loc[i, 'O_bet_5'] == 'H' and df1.loc[i, 'Nethomepoints'] - df1.loc[i, 'Spread_flipp'] < 0:\n",
    "        df1.loc[i, 'O_win_5'] = 'L'    \n",
    "    elif df1.loc[i, 'O_bet_5'] == 'V' and df1.loc[i, 'Nethomepoints'] - df1.loc[i, 'Spread_flipp'] < 0:\n",
    "        df1.loc[i, 'O_win_5'] = 'W'\n",
    "    elif df1.loc[i, 'O_bet_5'] == 'V' and df1.loc[i, 'Nethomepoints'] - df1.loc[i, 'Spread_flipp'] > 0:\n",
    "        df1.loc[i, 'O_win_5'] = 'L'"
   ]
  },
  {
   "cell_type": "code",
   "execution_count": 35,
   "id": "1f726daf-cab2-4e40-8df4-2794a0feb123",
   "metadata": {
    "tags": []
   },
   "outputs": [],
   "source": [
    "for i in range(2566):\n",
    "    if df1.loc[i, 'Wu_bet_5'] == '0':\n",
    "        df1.loc[i, 'Wu_win_5'] = 'N'\n",
    "    elif df1.loc[i, 'Wu_bet_5'] == 'H' and df1.loc[i, 'Nethomepoints'] - df1.loc[i, 'Spread_flipp'] > 0:\n",
    "        df1.loc[i, 'Wu_win_5'] = 'W'\n",
    "    elif df1.loc[i, 'Wu_bet_5'] == 'H' and df1.loc[i, 'Nethomepoints'] - df1.loc[i, 'Spread_flipp'] < 0:\n",
    "        df1.loc[i, 'Wu_win_5'] = 'L'    \n",
    "    elif df1.loc[i, 'Wu_bet_5'] == 'V' and df1.loc[i, 'Nethomepoints'] - df1.loc[i, 'Spread_flipp'] < 0:\n",
    "        df1.loc[i, 'Wu_win_5'] = 'W'\n",
    "    elif df1.loc[i, 'Wu_bet_5'] == 'V' and df1.loc[i, 'Nethomepoints'] - df1.loc[i, 'Spread_flipp'] > 0:\n",
    "        df1.loc[i, 'Wu_win_5'] = 'L'"
   ]
  },
  {
   "cell_type": "code",
   "execution_count": 63,
   "id": "a9bde599-c349-45e2-b5f3-932d5c8adc46",
   "metadata": {
    "tags": []
   },
   "outputs": [],
   "source": [
    "for i in range(2566):\n",
    "    if df1.loc[i, 'O_win_3'] == '0' or df1.loc[i, 'O_win_3'] == 0:\n",
    "        df1.loc[i, 'O_win_3'] == 'N'"
   ]
  },
  {
   "cell_type": "code",
   "execution_count": 64,
   "id": "febae188-1eab-4794-9349-0f18f5fa0fc3",
   "metadata": {
    "tags": []
   },
   "outputs": [],
   "source": [
    "for i in range(2566):\n",
    "    if df1.loc[i, 'Wu_win_3'] == '0' or df1.loc[i, 'Wu_win_3'] == 0:\n",
    "        df1.loc[i, 'Wu_win_3'] == 'N'"
   ]
  },
  {
   "cell_type": "code",
   "execution_count": 65,
   "id": "b657a926-8847-42f1-8fcf-f65d04dae1bb",
   "metadata": {
    "tags": []
   },
   "outputs": [],
   "source": [
    "for i in range(2566):\n",
    "    if df1.loc[i, 'O_win_5'] == '0' or df1.loc[i, 'O_win_5'] == 0:\n",
    "        df1.loc[i, 'O_win_5'] == 'N'"
   ]
  },
  {
   "cell_type": "code",
   "execution_count": 66,
   "id": "da605070-da18-42cb-88c5-3c45a166f9e1",
   "metadata": {
    "tags": []
   },
   "outputs": [],
   "source": [
    "for i in range(2566):\n",
    "    if df1.loc[i, 'Wu_win_5'] == '0' or df1.loc[i, 'Wu_win_5'] == 0:\n",
    "        df1.loc[i, 'Wu_win_5'] == 'N'"
   ]
  },
  {
   "cell_type": "code",
   "execution_count": 67,
   "id": "5616062b-0537-4f71-8527-3220f448f1fd",
   "metadata": {
    "tags": []
   },
   "outputs": [
    {
     "data": {
      "text/plain": [
       "<Axes: xlabel='Wu_win_5', ylabel='count'>"
      ]
     },
     "execution_count": 67,
     "metadata": {},
     "output_type": "execute_result"
    },
    {
     "data": {
      "image/png": "[encoded data removed]",
      "text/plain": [
       "<Figure size 700x700 with 4 Axes>"
      ]
     },
     "metadata": {},
     "output_type": "display_data"
    }
   ],
   "source": [
    "fig, axs = plt.subplots(2, 2, figsize=(7, 7))\n",
    "sns.countplot(data = df1, x = 'O_win_3', color=\"skyblue\", ax=axs[0, 0])\n",
    "sns.countplot(data = df1, x = 'Wu_win_3', color=\"olive\", ax=axs[0, 1])\n",
    "sns.countplot(data = df1, x = 'O_win_5', color=\"gold\", ax=axs[1, 0])\n",
    "sns.countplot(data = df1, x = 'Wu_win_5', color=\"teal\", ax=axs[1, 1])"
   ]
  },
  {
   "cell_type": "code",
   "execution_count": 68,
   "id": "5373d815-0015-4556-8091-4c93f99dad91",
   "metadata": {
    "tags": []
   },
   "outputs": [],
   "source": [
    "df1.to_excel(\"df.xlsx\")\n"
   ]
  }
 ],
 "metadata": {
  "kernelspec": {
   "display_name": "Python 3 (ipykernel)",
   "language": "python",
   "name": "python3"
  },
  "language_info": {
   "codemirror_mode": {
    "name": "ipython",
    "version": 3
   },
   "file_extension": ".py",
   "mimetype": "text/x-python",
   "name": "python",
   "nbconvert_exporter": "python",
   "pygments_lexer": "ipython3",
   "version": "3.8.17"
  }
 },
 "nbformat": 4,
 "nbformat_minor": 5
}
